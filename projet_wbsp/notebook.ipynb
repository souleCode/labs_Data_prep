{
 "cells": [
  {
   "cell_type": "code",
   "execution_count": 5,
   "metadata": {},
   "outputs": [],
   "source": [
    "# pip install playwright \n",
    "\n",
    "\n"
   ]
  },
  {
   "cell_type": "code",
   "execution_count": 7,
   "metadata": {},
   "outputs": [],
   "source": [
    "# pip install openpyxl"
   ]
  },
  {
   "cell_type": "code",
   "execution_count": 9,
   "metadata": {},
   "outputs": [],
   "source": [
    "from playwright.sync_api import sync_playwright\n",
    "from dataclasses import dataclass, asdict, field\n",
    "import pandas as pd\n",
    "import argparse\n",
    "import os\n",
    "import sys\n"
   ]
  },
  {
   "cell_type": "code",
   "execution_count": 11,
   "metadata": {},
   "outputs": [],
   "source": [
    "@dataclass\n",
    "class Business:\n",
    "    \"\"\"Class pour obtenir les donnees business\"\"\"\n",
    "\n",
    "    name: str = None\n",
    "    address: str = None\n",
    "    website: str = None\n",
    "    phone_number: str = None\n",
    "    # reviews_count: int = None\n",
    "    # reviews_average: float = None\n",
    "    # latitude: float = None\n",
    "    # longitude: float = None"
   ]
  },
  {
   "cell_type": "code",
   "execution_count": 13,
   "metadata": {},
   "outputs": [],
   "source": [
    "@dataclass\n",
    "class BusinessList:\n",
    "    \"\"\"This class extract the list of Business objects,\n",
    "    and save to both excel and csv\n",
    "    \"\"\"\n",
    "    business_list: list[Business] = field(default_factory=list)\n",
    "    save_at = 'output'\n",
    "    def dataframe(self):\n",
    "        \"\"\"transform business_list to pandas dataframe\n",
    "\n",
    "        Returns: pandas dataframe\n",
    "        \"\"\"\n",
    "        return pd.json_normalize(\n",
    "            (asdict(business) for business in self.business_list), sep=\"_\"\n",
    "        )\n",
    "\n",
    "    def save_to_excel(self, filename):\n",
    "        \"\"\"saves pandas dataframe to excel (xlsx) file\n",
    "\n",
    "        Args:\n",
    "            filename (str): filename\n",
    "        \"\"\"\n",
    "\n",
    "        if not os.path.exists(self.save_at):\n",
    "            os.makedirs(self.save_at)\n",
    "        self.dataframe().to_excel(f\"output/{filename}.xlsx\", index=False)\n",
    "\n",
    "    def save_to_csv(self, filename):\n",
    "        \"\"\"saves pandas dataframe to csv file\n",
    "\n",
    "        Args:\n",
    "            filename (str): filename\n",
    "        \"\"\"\n",
    "\n",
    "        if not os.path.exists(self.save_at):\n",
    "            os.makedirs(self.save_at)\n",
    "        self.dataframe().to_csv(f\"output/{filename}.csv\", index=False)"
   ]
  },
  {
   "cell_type": "code",
   "execution_count": null,
   "metadata": {},
   "outputs": [],
   "source": [
    "def main():\n",
    "    with sync_playwright() as p:\n",
    "        browser = p.chromium.launch(headless=False)\n",
    "        page=browser.new_page()\n",
    "        \n",
    "        #got to google maps\n",
    "        page.goto(\"https://www.google.com/maps\",timeout=60000)\n",
    "        page.wait_for_timeout(5000)\n",
    "        #search for a location\n",
    "        page.locator('//input[@id=\"searchboxinput\"]').fill(search_for)\n",
    "        page.wait_for_timeout(5000)\n",
    "        page.keyboard.press('Enter')\n",
    "        page.wait_for_timeout(5000)\n",
    "        \n",
    "        listing=page.locator()\n",
    "        \n",
    "        \n",
    "        \n",
    "        \n",
    "        \n",
    "        browser.close()\n",
    "        "
   ]
  },
  {
   "cell_type": "code",
   "execution_count": null,
   "metadata": {},
   "outputs": [
    {
     "name": "stderr",
     "output_type": "stream",
     "text": [
      "usage: ipykernel_launcher.py [-h] [-s SEARCH] [-l LOCATION]\n",
      "ipykernel_launcher.py: error: unrecognized arguments: --f=c:\\Users\\DELL\\AppData\\Roaming\\jupyter\\runtime\\kernel-v37e1a971558d411eb8b358d121b6dd84215de394e.json\n"
     ]
    },
    {
     "ename": "SystemExit",
     "evalue": "2",
     "output_type": "error",
     "traceback": [
      "An exception has occurred, use %tb to see the full traceback.\n",
      "\u001b[1;31mSystemExit\u001b[0m\u001b[1;31m:\u001b[0m 2\n"
     ]
    }
   ],
   "source": [
    "if __name__ == \"__main__\":\n",
    "    \n",
    "    ########\n",
    "    # input \n",
    "    ########\n",
    "    \n",
    "    # read search from arguments\n",
    "    parser = argparse.ArgumentParser()\n",
    "    parser.add_argument(\"-s\", \"--search\", type=str)\n",
    "    parser.add_argument(\"-l\", \"--location\", type=str)\n",
    "    args = parser.parse_args()\n",
    "    if args.searc and args.location:\n",
    "        search_for=f'{args.search} {args.location}'\n",
    "    else:\n",
    "        search_for='doctor meknes'\n",
    "    \n",
    "    main()"
   ]
  },
  {
   "cell_type": "code",
   "execution_count": null,
   "metadata": {},
   "outputs": [
    {
     "name": "stderr",
     "output_type": "stream",
     "text": [
      "usage: ipykernel_launcher.py [-h] [-s SEARCH] [-t TOTAL]\n",
      "ipykernel_launcher.py: error: unrecognized arguments: --f=c:\\Users\\DELL\\AppData\\Roaming\\jupyter\\runtime\\kernel-v37e1a971558d411eb8b358d121b6dd84215de394e.json\n"
     ]
    },
    {
     "ename": "SystemExit",
     "evalue": "2",
     "output_type": "error",
     "traceback": [
      "An exception has occurred, use %tb to see the full traceback.\n",
      "\u001b[1;31mSystemExit\u001b[0m\u001b[1;31m:\u001b[0m 2\n"
     ]
    },
    {
     "name": "stderr",
     "output_type": "stream",
     "text": [
      "C:\\Users\\DELL\\AppData\\Roaming\\Python\\Python312\\site-packages\\IPython\\core\\interactiveshell.py:3585: UserWarning: To exit: use 'exit', 'quit', or Ctrl-D.\n",
      "  warn(\"To exit: use 'exit', 'quit', or Ctrl-D.\", stacklevel=1)\n"
     ]
    }
   ],
   "source": []
  },
  {
   "cell_type": "code",
   "execution_count": null,
   "metadata": {},
   "outputs": [],
   "source": []
  }
 ],
 "metadata": {
  "kernelspec": {
   "display_name": "Python 3",
   "language": "python",
   "name": "python3"
  },
  "language_info": {
   "codemirror_mode": {
    "name": "ipython",
    "version": 3
   },
   "file_extension": ".py",
   "mimetype": "text/x-python",
   "name": "python",
   "nbconvert_exporter": "python",
   "pygments_lexer": "ipython3",
   "version": "3.12.2"
  }
 },
 "nbformat": 4,
 "nbformat_minor": 2
}

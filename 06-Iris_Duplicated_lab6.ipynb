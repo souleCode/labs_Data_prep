{
 "cells": [
  {
   "cell_type": "markdown",
   "metadata": {},
   "source": [
    " # Identifier les lignes qui contiennent des données en double"
   ]
  },
  {
   "cell_type": "markdown",
   "metadata": {},
   "source": [
    " - Les lignes qui contiennent des données identiques peuvent être inutiles auprocessus de modélisation, voire dangereusement trompeuses lors de l’évaluation du modèle.\n",
    "- Ici, une ligne dupliquée est une ligne où chaque valeur de chaque colonne de ette ligne apparaît dans le même ordre dans une autre ligne.\n",
    "\n",
    "- La fonction duplicated() de Pandas indique si une ligne donnée est dupliquée ou non."
   ]
  },
  {
   "cell_type": "code",
   "execution_count": 26,
   "metadata": {},
   "outputs": [
    {
     "name": "stdout",
     "output_type": "stream",
     "text": [
      "True\n",
      "       0    1    2    3               4\n",
      "34   4.9  3.1  1.5  0.1     Iris-setosa\n",
      "37   4.9  3.1  1.5  0.1     Iris-setosa\n",
      "142  5.8  2.7  5.1  1.9  Iris-virginica\n"
     ]
    }
   ],
   "source": [
    "# locate rows of duplicate data\n",
    "from pandas import read_csv\n",
    "# load the dataset iris.csv\n",
    "df = read_csv('data/iris.csv', header=None)\n",
    "# calculate duplicates\n",
    "...............;\n",
    "# report if there are any duplicates\n",
    "....................\n",
    "# list all duplicate rows\n",
    "..................."
   ]
  },
  {
   "cell_type": "code",
   "execution_count": null,
   "metadata": {},
   "outputs": [],
   "source": []
  },
  {
   "cell_type": "markdown",
   "metadata": {},
   "source": [
    "- Découvrir les arguments de la méthode duplicated() et les expliquer en faisant des tests"
   ]
  },
  {
   "cell_type": "code",
   "execution_count": null,
   "metadata": {},
   "outputs": [],
   "source": []
  },
  {
   "cell_type": "code",
   "execution_count": null,
   "metadata": {},
   "outputs": [],
   "source": []
  },
  {
   "cell_type": "code",
   "execution_count": null,
   "metadata": {},
   "outputs": [],
   "source": []
  },
  {
   "cell_type": "markdown",
   "metadata": {},
   "source": [
    "# Supprimer les lignes qui contiennent des données en double"
   ]
  },
  {
   "cell_type": "markdown",
   "metadata": {},
   "source": [
    "- Les lignes de données en double doivent probablement être supprimées de votre ensemble de données avant la modélisation.\n",
    "- Il existe de nombreuses façons d’y parvenir, mais Pandas fournit la fonction drop_duplicates() qui permet de supprimer la ligne dupliquée"
   ]
  },
  {
   "cell_type": "code",
   "execution_count": null,
   "metadata": {},
   "outputs": [],
   "source": []
  },
  {
   "cell_type": "code",
   "execution_count": null,
   "metadata": {},
   "outputs": [],
   "source": []
  },
  {
   "cell_type": "code",
   "execution_count": 27,
   "metadata": {},
   "outputs": [
    {
     "name": "stdout",
     "output_type": "stream",
     "text": [
      "(150, 5)\n",
      "(147, 5)\n"
     ]
    }
   ],
   "source": []
  }
 ],
 "metadata": {
  "kernelspec": {
   "display_name": "Python 3 (ipykernel)",
   "language": "python",
   "name": "python3"
  },
  "language_info": {
   "codemirror_mode": {
    "name": "ipython",
    "version": 3
   },
   "file_extension": ".py",
   "mimetype": "text/x-python",
   "name": "python",
   "nbconvert_exporter": "python",
   "pygments_lexer": "ipython3",
   "version": "3.8.10"
  }
 },
 "nbformat": 4,
 "nbformat_minor": 5
}
